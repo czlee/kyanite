{
 "cells": [
  {
   "cell_type": "markdown",
   "id": "0ff27510-eb7d-4e5b-9d4c-2ccb302a2006",
   "metadata": {},
   "source": [
    "# Longer runs\n",
    "\n",
    "_15 August 2021_ <br />\n",
    "_Chuan-Zheng Lee <czlee@stanford.edu>_ <br />\n",
    "_Rough working_\n",
    "\n",
    "Since the neural network plots don't seem to indicate that the digital scheme eventually catches up to the analog scheme, I ran the experiments for 1200 rounds to see if it shows anything interesting."
   ]
  },
  {
   "cell_type": "code",
   "execution_count": null,
   "id": "067b14c8-ab5d-4ef0-8c70-36fc2c997ed9",
   "metadata": {},
   "outputs": [],
   "source": [
    "from pathlib import Path\n",
    "\n",
    "import matplotlib.pyplot as plt\n",
    "\n",
    "from plots_utils import plot_averaged_training_charts, plot_comparison, make_axes, show_timestamp_info"
   ]
  },
  {
   "cell_type": "code",
   "execution_count": null,
   "id": "dbabaa9b-a510-4dda-83cf-60f4c3442730",
   "metadata": {},
   "outputs": [],
   "source": [
    "def get_comparison_specs(dataset, noise='__all__'):\n",
    "\n",
    "    common_fixed_specs = {\n",
    "        'rounds': 1200,\n",
    "        'batch_size': 64,\n",
    "        'epochs': 1,\n",
    "        'ema_coefficient': 1 / 3,\n",
    "        'data_per_client': None,\n",
    "        'save_squared_error': False,\n",
    "        'send': 'deltas',\n",
    "    }\n",
    "\n",
    "    fixed_specs = common_fixed_specs.copy()\n",
    "    fixed_specs.update({\n",
    "        'power_update_period': 1,\n",
    "        'power_quantile': 0.9,\n",
    "        'power_factor': 0.9,\n",
    "    })\n",
    "    title_specs = {\n",
    "        'power': 1.0,\n",
    "        'clients': 20,\n",
    "        'dataset': dataset,\n",
    "        'lr_client': 0.001 if dataset == 'cifar10' else 0.01,\n",
    "        'momentum_client': 0.9 if dataset == 'cifar10' else 0.0,\n",
    "    }\n",
    "    series_specs = {\n",
    "        'noise': noise,\n",
    "    }\n",
    "\n",
    "    all_analog_specs = title_specs, fixed_specs, series_specs\n",
    "\n",
    "    fixed_specs = common_fixed_specs.copy()\n",
    "    fixed_specs.update({\n",
    "        'qrange_update_period': 1,\n",
    "        'qrange_param_quantile': 0.9,\n",
    "        'qrange_client_quantile': 0.9,\n",
    "        'channel_uses': None,\n",
    "        'rounding_method': 'stochastic',\n",
    "        'parameter_schedule': 'staggered',\n",
    "        'zero_bits_strategy': 'read-zero',\n",
    "    })\n",
    "\n",
    "    all_digital_specs = title_specs, fixed_specs, series_specs\n",
    "    \n",
    "    return all_analog_specs, all_digital_specs\n",
    "\n",
    "def plot_analog_vs_digital(paths, dataset, noise='__all__', **kwargs):\n",
    "    all_specs = get_comparison_specs(dataset, noise)\n",
    "    plot_comparison('accuracy', *paths, *all_specs, **kwargs)\n",
    "    plt.grid()"
   ]
  },
  {
   "cell_type": "code",
   "execution_count": null,
   "id": "e41e2b96-014f-470c-bd1b-49b9d73ebba7",
   "metadata": {},
   "outputs": [],
   "source": [
    "analog_path = [\n",
    "    Path(\"results/20210813-popeye1-cifarmnist-long-dynpower/\"),\n",
    "    Path(\"results/20210813-popeye2-cifarmnist-long-dynpower/\"),\n",
    "]\n",
    "digital_path = [\n",
    "    Path(\"results/20210813-popeye1-cifarmnist-long-dynquant/\"),\n",
    "    Path(\"results/20210813-popeye2-cifarmnist-long-dynquant/\"),\n",
    "]\n",
    "paths = analog_path, digital_path"
   ]
  },
  {
   "cell_type": "code",
   "execution_count": null,
   "id": "1b525453-1ccd-4c65-9563-cae1e87f10a3",
   "metadata": {},
   "outputs": [],
   "source": [
    "show_timestamp_info(analog_path)"
   ]
  },
  {
   "cell_type": "code",
   "execution_count": null,
   "id": "68cf6c5e-2e80-4bbe-9c4b-ca60e923ddf1",
   "metadata": {},
   "outputs": [],
   "source": [
    "show_timestamp_info(digital_path)"
   ]
  },
  {
   "cell_type": "code",
   "execution_count": null,
   "id": "274a6ce2-b47d-4006-a791-4d5db975a875",
   "metadata": {},
   "outputs": [],
   "source": [
    "plot_analog_vs_digital(paths, 'fashion-mnist')"
   ]
  },
  {
   "cell_type": "code",
   "execution_count": null,
   "id": "83b3c849-f2c5-48d6-9144-457fa280a4b2",
   "metadata": {},
   "outputs": [],
   "source": [
    "plot_analog_vs_digital(paths, 'fashion-mnist', plot_quartiles=True)"
   ]
  },
  {
   "cell_type": "code",
   "execution_count": null,
   "id": "b70e7c2d-7a35-4f40-a5d5-b2b80fda60b7",
   "metadata": {},
   "outputs": [],
   "source": [
    "plot_analog_vs_digital(paths, 'cifar10')"
   ]
  },
  {
   "cell_type": "code",
   "execution_count": null,
   "id": "5fd0c7dc-c42a-4f6e-893e-e02035277942",
   "metadata": {},
   "outputs": [],
   "source": [
    "plot_analog_vs_digital(paths, 'cifar10', plot_range=True)\n",
    "plt.ylim((0.40, 0.47))"
   ]
  },
  {
   "cell_type": "markdown",
   "id": "b9619f3e-1d04-4ab3-90d4-4ef6bbc0fe27",
   "metadata": {},
   "source": [
    "# Simple (non-federated) learning\n",
    "\n",
    "This is mostly a check to see what the convergence accuracy for this model is."
   ]
  },
  {
   "cell_type": "code",
   "execution_count": null,
   "id": "1dc93871-1e4b-4664-9993-bf8d33cb9c58",
   "metadata": {},
   "outputs": [],
   "source": [
    "results_dir = Path(\"results/20210813-fmnist-simple-long/\")\n",
    "show_timestamp_info(results_dir)"
   ]
  },
  {
   "cell_type": "code",
   "execution_count": null,
   "id": "66178965-254b-4c96-a9b5-c0454aa8d3a6",
   "metadata": {},
   "outputs": [],
   "source": [
    "fixed_specs = {\n",
    "    'batch_size': 64,\n",
    "    'epochs': 8000,\n",
    "}\n",
    "title_specs = {\n",
    "    'dataset': 'fashion-mnist',\n",
    "    'learning_rate': 0.01,\n",
    "    'momentum': 0.0,\n",
    "}\n",
    "series_specs = {}\n",
    "\n",
    "plot_averaged_training_charts(results_dir, ['accuracy', 'test_loss', 'train_loss'], title_specs, fixed_specs, series_specs)"
   ]
  },
  {
   "cell_type": "markdown",
   "id": "91ae8e16-0d36-48df-9199-d363b87116a2",
   "metadata": {},
   "source": [
    "This does kind of seem like it overfitted."
   ]
  },
  {
   "cell_type": "code",
   "execution_count": null,
   "id": "959b8d85-6a24-4d46-91d4-3d1d0ba38cef",
   "metadata": {},
   "outputs": [],
   "source": [
    "results_dir = Path(\"results/20210813-cifar10-simple-long/\")\n",
    "# show_timestamp_info(results_dir)"
   ]
  },
  {
   "cell_type": "code",
   "execution_count": null,
   "id": "24f58ff2-2537-4827-bf87-1e89fe8b75c7",
   "metadata": {},
   "outputs": [],
   "source": [
    "fixed_specs = {\n",
    "    'batch_size': 64,\n",
    "    'epochs': 8000,\n",
    "}\n",
    "title_specs = {\n",
    "    'dataset': 'cifar10',\n",
    "    'learning_rate': 0.001,\n",
    "    'momentum': 0.9,\n",
    "}\n",
    "series_specs = {}\n",
    "\n",
    "plot_averaged_training_charts(results_dir, ['accuracy', 'test_loss', 'train_loss'], title_specs, fixed_specs, series_specs)"
   ]
  }
 ],
 "metadata": {
  "kernelspec": {
   "display_name": "Python 3 (ipykernel)",
   "language": "python",
   "name": "python3"
  },
  "language_info": {
   "codemirror_mode": {
    "name": "ipython",
    "version": 3
   },
   "file_extension": ".py",
   "mimetype": "text/x-python",
   "name": "python",
   "nbconvert_exporter": "python",
   "pygments_lexer": "ipython3",
   "version": "3.8.10"
  }
 },
 "nbformat": 4,
 "nbformat_minor": 5
}
